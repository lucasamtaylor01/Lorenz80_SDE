{
 "cells": [
  {
   "cell_type": "markdown",
   "id": "67cc2f34",
   "metadata": {},
   "source": [
    "# Tarefa: 07 de maio de 2025\n",
    "\n",
    "## 💡 Ideia central\n",
    "Iniciar as primeiras simulações em Julia seguindo o exemplo da seção 1.7.2 do livro _Multiscale Methods Averaging and Homogenization_.\n",
    "\n"
   ]
  },
  {
   "cell_type": "markdown",
   "id": "e44ea822",
   "metadata": {},
   "source": [
    "## 🎯 Apresentação dos modelos\n",
    "\n",
    "O modelo determinístico apresentado abaixo:\n",
    "\n",
    "$$\n",
    "\\begin{aligned}\n",
    "    \\frac{dx}{dt} &= x - x^3 + \\frac{\\lambda}{\\varepsilon} y_2, \\\\\n",
    "    \\frac{dy_1}{dt} &= \\frac{10}{\\varepsilon^2} (y_2 - y_1), \\\\\n",
    "    \\frac{dy_2}{dt} &= \\frac{1}{\\varepsilon^2} (28 y_1 - y_2 - y_1 y_3), \\\\\n",
    "    \\frac{dy_3}{dt} &= \\frac{1}{\\varepsilon^2} \\left( y_1 y_2 - \\frac{8}{3} y_3 \\right).\n",
    "\\end{aligned}\n",
    "$$\n",
    "\n",
    "O modelo estocástico é dado por:\n",
    "$$\n",
    "    \\frac{dX}{dt} = X - X^3 + \\sigma \\frac{dW}{dt}\n",
    "$$\n",
    "\n",
    "Onde:\n",
    "\n",
    "$$\n",
    "    \\sigma^2 = 2\\lambda^2 \\int_0^\\infty \\frac{1}{T} \\left( \\lim_{T \\to \\infty} \\int_0^T \\psi^s(y) \\psi^{t+s}(y) \\, ds \\right) dt.\n",
    "$$\n"
   ]
  },
  {
   "cell_type": "markdown",
   "id": "38df7d75",
   "metadata": {},
   "source": [
    "## 🚀 Análise de dados\n",
    "\n",
    "O presente código visa realizar as primeiras simulações do sistema sem tanta preocupação com detalhes da linguagem e uma manipulação matemática tão rigorosa. Interprete a seção como um primeiro passo."
   ]
  },
  {
   "cell_type": "code",
   "execution_count": null,
   "id": "ada46805",
   "metadata": {},
   "outputs": [],
   "source": [
    "using DifferentialEquations, Plots, CSV, DataFrames"
   ]
  },
  {
   "cell_type": "code",
   "execution_count": null,
   "id": "4fb5fd05",
   "metadata": {},
   "outputs": [],
   "source": [
    "# Sistema original\n",
    "\n",
    "function f(du, u, p, t)\n",
    "    lambda = 1.0\n",
    "    epsilon = 0.1\n",
    "\n",
    "    x, y1, y2, y3 = u\n",
    "\n",
    "    du[1] = x - x^3 + (lambda/epsilon) * y2\n",
    "    du[2] = (10 / epsilon^2) * (y2 - y1)\n",
    "    du[3] = (1 / epsilon^2) * (28*y1 - y2 - y1*y3)  \n",
    "    du[4] = (1 / epsilon^2) * (y1*y2 - (8/3)*y3)\n",
    "end\n",
    "\n",
    "u0 = [0.1, 0.01, 0.01, 0.01]\n",
    "tspan = (0.0, 20.0)\n",
    "prob = ODEProblem(f, u0, tspan)\n",
    "solucao_deterministico = solve(prob, abstol=1e-8, reltol=1e-6, maxiters=10^6)\n",
    "\n",
    "df = DataFrame(t = solucao_deterministico.t, x = solucao_deterministico[1, :])\n",
    "\n",
    "CSV.write(\"csv/sistema_deterministico.csv\", df)\n"
   ]
  },
  {
   "cell_type": "code",
   "execution_count": null,
   "id": "2c0fa5f0",
   "metadata": {},
   "outputs": [],
   "source": [
    "# Sistema estocastico\n",
    "sigma = 0.0659\n",
    "x0 = 0.1\n",
    "tspan = (0.0, 100.0)\n",
    "\n",
    "f1(X, p, t) = X - X^3\n",
    "f2(X, p, t) = sigma\n",
    "\n",
    "W = WienerProcess(0.0, 0.0, 0.0)\n",
    "\n",
    "prob = SDEProblem(f1, f2, x0, tspan, noise=W)\n",
    "\n",
    "ensemble_prob = EnsembleProblem(prob)\n",
    "ensemble_sol = solve(ensemble_prob, SRIW1(); dt=0.01, saveat=0.01, trajectories=100)\n",
    "\n",
    "\n",
    "t = ensemble_sol[1].t\n",
    "df = DataFrame(t = t)\n",
    "\n",
    "for (i, sol) in enumerate(ensemble_sol)\n",
    "    df[!, Symbol(\"x_$i\")] = sol.u\n",
    "end\n",
    "\n",
    "CSV.write(\"csv/sistema_estocastico_novo.csv\", df)\n"
   ]
  }
 ],
 "metadata": {
  "kernelspec": {
   "display_name": "Julia 1.11.5",
   "language": "julia",
   "name": "julia-1.11"
  },
  "language_info": {
   "file_extension": ".jl",
   "mimetype": "application/julia",
   "name": "julia",
   "version": "1.11.5"
  }
 },
 "nbformat": 4,
 "nbformat_minor": 5
}
