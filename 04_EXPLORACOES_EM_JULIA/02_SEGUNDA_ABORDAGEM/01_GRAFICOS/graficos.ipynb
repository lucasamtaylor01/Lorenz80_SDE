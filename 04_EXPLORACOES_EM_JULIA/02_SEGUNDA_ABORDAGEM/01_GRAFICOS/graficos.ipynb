{
 "cells": [
  {
   "cell_type": "markdown",
   "id": "67cc2f34",
   "metadata": {},
   "source": [
    "# Tarefa: 06 de junho\n",
    "\n"
   ]
  },
  {
   "cell_type": "markdown",
   "id": "e44ea822",
   "metadata": {},
   "source": [
    "## 🎯 Apresentação dos modelos\n",
    "\n",
    "O modelo determinístico apresentado abaixo:\n",
    "\n",
    "$$\n",
    "\\begin{aligned}\n",
    "    \\frac{dx}{dt} &= x - x^3 + \\frac{\\lambda}{\\varepsilon} y_2, \\\\\n",
    "    \\frac{dy_1}{dt} &= \\frac{10}{\\varepsilon^2} (y_2 - y_1), \\\\\n",
    "    \\frac{dy_2}{dt} &= \\frac{1}{\\varepsilon^2} (28 y_1 - y_2 - y_1 y_3), \\\\\n",
    "    \\frac{dy_3}{dt} &= \\frac{1}{\\varepsilon^2} \\left( y_1 y_2 - \\frac{8}{3} y_3 \\right).\n",
    "\\end{aligned}\n",
    "$$\n",
    "\n",
    "O modelo estocástico é dado por:\n",
    "$$\n",
    "    \\frac{dX}{dt} = X - X^3 + \\sigma \\frac{dW}{dt}\n",
    "$$\n",
    "\n",
    "Onde:\n",
    "\n",
    "$$\n",
    "    \\sigma^2 = 2\\lambda^2 \\int_0^\\infty \\frac{1}{T} \\left( \\lim_{T \\to \\infty} \\int_0^T \\psi^s(y) \\psi^{t+s}(y) \\, ds \\right) dt.\n",
    "$$\n"
   ]
  },
  {
   "cell_type": "markdown",
   "id": "13d85779",
   "metadata": {},
   "source": [
    "## Gráficos"
   ]
  },
  {
   "cell_type": "code",
   "execution_count": null,
   "id": "ada46805",
   "metadata": {},
   "outputs": [],
   "source": [
    "using DifferentialEquations, Plots, Statistics, StatsBase, DSP"
   ]
  },
  {
   "cell_type": "code",
   "execution_count": null,
   "id": "4fb5fd05",
   "metadata": {},
   "outputs": [],
   "source": [
    "# Sistema original\n",
    "\n",
    "function f(du, u, p, t)\n",
    "    lambda = 1.0\n",
    "    epsilon = 0.01\n",
    "\n",
    "    x, y1, y2, y3 = u\n",
    "\n",
    "    du[1] = x - x^3 + (lambda/epsilon) * y2\n",
    "    du[2] = (10 / epsilon^2) * (y2 - y1)\n",
    "    du[3] = (1 / epsilon^2) * (28*y1 - y2 - y1*y3)  \n",
    "    du[4] = (1 / epsilon^2) * (y1*y2 - (8/3)*y3)\n",
    "end\n",
    "\n",
    "u0 = [0.1, 0.01, 0.01, 0.01]\n",
    "tspan = (0.0, 10.0)\n",
    "prob = ODEProblem(f, u0, tspan)\n",
    "solucao_deterministico = solve(prob, Rodas5())\n",
    "\n",
    "plot(solucao_deterministico.t, solucao_deterministico[1, :];\n",
    "     label = \"x(t)\",\n",
    "     xlabel = \"Tempo\",\n",
    "     ylabel = \"x\",\n",
    "     title = \"Modelo acoplado deterministico\",\n",
    "     size = (960, 540),\n",
    "     color = :red,\n",
    "     linewidth = 1.5)"
   ]
  },
  {
   "cell_type": "code",
   "execution_count": null,
   "id": "e655a877",
   "metadata": {},
   "outputs": [],
   "source": [
    "plot(solucao_deterministico.t, solucao_deterministico[3, :];\n",
    "     label = \"y₂(t)\",\n",
    "     xlabel = \"Tempo\",\n",
    "     ylabel = \"y₂\",\n",
    "     title = \"Componente rápida y₂(t)\",\n",
    "     color = :blue)\n"
   ]
  },
  {
   "cell_type": "code",
   "execution_count": null,
   "id": "470eda53",
   "metadata": {},
   "outputs": [],
   "source": [
    "# Centraliza\n",
    "y2 = solucao_deterministico[3, :]\n",
    "y2 = y2 .- mean(y2)\n",
    "\n",
    "# Autocorrelação normalizada com 'scaling'\n",
    "acor = xcorr(y2; scaling=:coeff)  # autocorrelação com ρ(0) = 1\n",
    "\n",
    "# O vetor vai de -N+1 até N-1, com centro no meio\n",
    "n = length(y2)\n",
    "lag0 = n\n",
    "acor_pos = acor[lag0:end]  # lags ≥ 0\n",
    "\n",
    "# Variância e passo\n",
    "var_y2 = var(y2)\n",
    "dt = solucao_deterministico.t[2] - solucao_deterministico.t[1]\n",
    "lambda = 1.0\n",
    "\n",
    "# Estimativa de sigma²\n",
    "sigma2 = 2 * lambda^2 * var_y2 * dt * sum(acor_pos)\n",
    "sigma = sqrt(sigma2)\n",
    "\n",
    "println(\"Estimativa de sigma² ≈ \", sigma2)\n",
    "println(\"Estimativa de sigma  ≈ \", sigma)\n"
   ]
  },
  {
   "cell_type": "code",
   "execution_count": null,
   "id": "2c0fa5f0",
   "metadata": {},
   "outputs": [],
   "source": [
    "# Sistema estocástico\n",
    "sigma = 787\n",
    "x0 = 0.1\n",
    "tspan = (0.0, 10.0)\n",
    "\n",
    "f1(X, p, t) = X - X^3\n",
    "f2(X, p, t) = sigma\n",
    "\n",
    "W = WienerProcess(0.0, 0.0, 0.0)\n",
    "prob = SDEProblem(f1, f2, x0, tspan, noise=W)\n",
    "solucao_estocastico = solve(prob, LambaEM(), dt=0.01)\n",
    "\n",
    "plot(solucao_estocastico.t, solucao_estocastico.u;\n",
    "     label = \"X(t)\",\n",
    "     xlabel = \"Tempo\",\n",
    "     ylabel = \"X\",\n",
    "     title = \"Modelo estocástico\",\n",
    "     size = (960, 540),\n",
    "     color = :red,\n",
    "     linewidth = 1.5)\n",
    "     "
   ]
  },
  {
   "cell_type": "code",
   "execution_count": null,
   "id": "6df585e9",
   "metadata": {},
   "outputs": [],
   "source": [
    "# Procurar o erro aqui\n",
    "p1 = histogram(solucao_deterministico[1,: ], title=\"deterministico\", bins=30)\n",
    "p2 = histogram(solucao_estocastico.u, title=\"estocástico\", bins=30)\n",
    "\n",
    "plot(p1, p2, layout=(1, 2), legend=false)\n",
    "plot(p1, p2, layout=(1, 2), legend=false)"
   ]
  }
 ],
 "metadata": {
  "kernelspec": {
   "display_name": "Julia 1.11.5",
   "language": "julia",
   "name": "julia-1.11"
  },
  "language_info": {
   "file_extension": ".jl",
   "mimetype": "application/julia",
   "name": "julia",
   "version": "1.11.5"
  }
 },
 "nbformat": 4,
 "nbformat_minor": 5
}
