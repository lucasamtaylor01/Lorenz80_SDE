{
 "cells": [
  {
   "cell_type": "code",
   "execution_count": null,
   "id": "088e0682",
   "metadata": {},
   "outputs": [],
   "source": [
    "import pandas as pd\n",
    "import matplotlib.pyplot as plt\n",
    "\n",
    "\n",
    "df = pd.read_csv('csv/sistema_estocastico.csv')\n"
   ]
  },
  {
   "cell_type": "code",
   "execution_count": null,
   "id": "34df2e67",
   "metadata": {},
   "outputs": [],
   "source": [
    "medianas = []\n",
    "medias = []\n",
    "desvio_padrao = []\n",
    "\n",
    "for i in range(df.shape[0]):  \n",
    "    linha_dados = df.iloc[i, 1:] \n",
    "    medianas.append(linha_dados.median())\n",
    "    medias.append(linha_dados.mean())\n",
    "    desvio_padrao.append(linha_dados.std())\n",
    "\n",
    "df_analise = pd.DataFrame({\n",
    "    't': df['t'],\n",
    "    'Mediana': medianas,\n",
    "    'Média': medias,\n",
    "    'Desvio Padrão': desvio_padrao\n",
    "})\n",
    "\n",
    "df_analise.to_csv(\"csv/df_analise.csv\", index=False)\n"
   ]
  },
  {
   "cell_type": "code",
   "execution_count": null,
   "id": "c2c961db",
   "metadata": {},
   "outputs": [],
   "source": [
    "df_analise = pd.read_csv(\"csv/df_analise.csv\") \n",
    "\n",
    "# Gráfico da Mediana\n",
    "plt.figure(figsize=(10, 5))\n",
    "plt.plot(df_analise[\"t\"], df_analise[\"Mediana\"], label=\"Mediana\", linewidth=1.5, color='blue')\n",
    "plt.xlabel(\"Tempo\")\n",
    "plt.ylabel(\"Mediana\")\n",
    "plt.title(\"Mediana em função do tempo\")\n",
    "plt.grid(True)\n",
    "plt.tight_layout()\n",
    "plt.show()\n",
    "\n",
    "# Gráfico da Média\n",
    "plt.figure(figsize=(10, 5))\n",
    "plt.plot(df_analise[\"t\"], df_analise[\"Média\"], label=\"Média\", linewidth=1.5, color='red')\n",
    "plt.xlabel(\"Tempo\")\n",
    "plt.ylabel(\"Média\")\n",
    "plt.title(\"Média em função do tempo\")\n",
    "plt.grid(True)\n",
    "plt.tight_layout()\n",
    "plt.show()\n"
   ]
  },
  {
   "cell_type": "code",
   "execution_count": null,
   "id": "7ef205cd",
   "metadata": {},
   "outputs": [],
   "source": [
    "plt.hist(df_analise[\"Média\"], bins=100, color='green', alpha=0.7)\n",
    "plt.hist(df_analise[\"Mediana\"], bins=100, color='red', alpha=0.7)\n",
    "plt.show()"
   ]
  }
 ],
 "metadata": {
  "kernelspec": {
   "display_name": ".venv",
   "language": "python",
   "name": "python3"
  },
  "language_info": {
   "codemirror_mode": {
    "name": "ipython",
    "version": 3
   },
   "file_extension": ".py",
   "mimetype": "text/x-python",
   "name": "python",
   "nbconvert_exporter": "python",
   "pygments_lexer": "ipython3",
   "version": "3.11.2"
  }
 },
 "nbformat": 4,
 "nbformat_minor": 5
}
